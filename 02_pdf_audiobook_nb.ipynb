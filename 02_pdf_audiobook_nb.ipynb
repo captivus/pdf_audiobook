{
 "cells": [
  {
   "attachments": {},
   "cell_type": "markdown",
   "metadata": {},
   "source": [
    "# Buildilng a PDF to audiobook converter in Python + CoPilot\n",
    "We're going to run through this iteratively, making improvements as we go.  To start, we'll write a program that will:\n",
    "1. Convert a number of pages of a PDF file to a text file\n",
    "1. Convert that text file into an mp3 file using Microsoft Edge's excellent text-to-speech AI service\n",
    "\n",
    "Incrementally, we'll make improvements to:\n",
    "1. Ignore headers and other text which we don't want read to us in the audiobook\n",
    "1. Convert the entire PDF to an audiobook\n",
    "1. Properly format the text file so that paragraphs aren't broken by newlines\n",
    "1. Provide indication of progress being made in the audiobook conversion (as this can take a while)\n",
    "\n",
    "Let's get started!"
   ]
  },
  {
   "attachments": {},
   "cell_type": "markdown",
   "metadata": {},
   "source": [
    "## Version 01"
   ]
  },
  {
   "cell_type": "code",
   "execution_count": null,
   "metadata": {},
   "outputs": [],
   "source": [
    "# Activate the pdf_audiobook environment using mamba\n",
    "#! mamba activate pdf_audiobook\n",
    "\n",
    "# Change to the pdf_audiobook directory\n",
    "#! cd ~/projects/pdf_audiobook\n",
    "\n",
    "# Install the modules using mamba and pip\n",
    "#! mamba install -c conda-forge pypdf2\n",
    "#! ~/mambaforge/envs/pdf_audiobook/bin/pip install edge-tts"
   ]
  },
  {
   "cell_type": "code",
   "execution_count": null,
   "metadata": {},
   "outputs": [],
   "source": [
    "# Extracts text from PDF files and converts it to an audiobook\n",
    "# Uses PyPDF2 and edge-tts\n",
    "\n",
    "# Import modules\n",
    "import PyPDF2\n",
    "import edge_tts\n",
    "\n",
    "# Define some constants\n",
    "PDF_FILE = \"Plato - Apology.pdf\"\n",
    "AUDIO_FILE = \"Plato - Apology.mp3\"\n",
    "TEXT_FILE = 'extracted_text.txt'"
   ]
  },
  {
   "cell_type": "code",
   "execution_count": null,
   "metadata": {},
   "outputs": [],
   "source": [
    "'''\n",
    "A function to extract text from a PDF file and save it as a text file\n",
    "Takes the following of arguments:\n",
    "    * PDF file to extract from\n",
    "    * Start page (defaults to 0)\n",
    "    * End page (defaults to -1, which means the last page)\n",
    "'''\n",
    "def extract_text_from_pdf(pdf_file, start_page=0, end_page=-1):\n",
    "    # Open PDF file\n",
    "    pdf_file = open(pdf_file, \"rb\")\n",
    "\n",
    "    # Create a PDF reader object\n",
    "    pdf_reader = PyPDF2.PdfFileReader(pdf_file)\n",
    "\n",
    "    # Get the number of pages in the PDF file\n",
    "    num_pages = pdf_reader.numPages\n",
    "\n",
    "    # Create a text file to save the text to\n",
    "    text_file = open(TEXT_FILE, \"w\")\n",
    "\n",
    "    # If the end page is -1, set it to the last page\n",
    "    if end_page == -1:\n",
    "        end_page = num_pages\n",
    "\n",
    "    # Loop through all the pages\n",
    "    for page_num in range(start_page, end_page):\n",
    "        # Get the page object\n",
    "        page_obj = pdf_reader.getPage(page_num)\n",
    "\n",
    "        # Extract the text from the page\n",
    "        page_text = page_obj.extractText()\n",
    "\n",
    "        # Write the text to the text file\n",
    "        text_file.write(page_text)\n",
    "\n",
    "    # Close the text file\n",
    "    text_file.close()"
   ]
  },
  {
   "cell_type": "code",
   "execution_count": null,
   "metadata": {},
   "outputs": [],
   "source": [
    "# Call the function to extract text from the PDF file defined above\n",
    "extract_text_from_pdf(pdf_file=PDF_FILE, start_page=2, end_page=7)"
   ]
  },
  {
   "cell_type": "code",
   "execution_count": null,
   "metadata": {},
   "outputs": [],
   "source": [
    "!edge-tts --voice en-AU-NatashaNeural --file '{TEXT_FILE}' --write-media '{AUDIO_FILE}'"
   ]
  },
  {
   "attachments": {},
   "cell_type": "markdown",
   "metadata": {},
   "source": [
    "-----"
   ]
  },
  {
   "attachments": {},
   "cell_type": "markdown",
   "metadata": {},
   "source": [
    "## Version 02 -- Refining the pipeline ...\n",
    "Let's have a go at trying to exclude the header and footer using a \"visitor function\"."
   ]
  },
  {
   "attachments": {},
   "cell_type": "markdown",
   "metadata": {},
   "source": [
    "### [Using a visitor](https://pypdf2.readthedocs.io/en/stable/user/extract-text.html#using-a-visitor)\n",
    "You can use visitor-functions to control which part of a page you want to process and extract. The visitor-functions you provide will get called for each operator or for each text fragment.\n",
    "\n",
    "The function provided in argument visitor_text of function extract_text has five arguments: current transformation matrix, text matrix, font-dictionary and font-size. In most cases the x and y coordinates of the current position are in index 4 and 5 of the current transformation matrix.\n",
    "\n",
    "The font-dictionary may be None in case of unknown fonts. If not None it may e.g. contain key “/BaseFont” with value “/Arial,Bold”.\n",
    "\n",
    "Caveat: In complicated documents the calculated positions might be wrong.\n",
    "\n",
    "The function provided in argument visitor_operand_before has four arguments: operand, operand-arguments, current transformation matrix and text matrix.\n",
    "\n",
    "#### [Example 1: Ignore header and footer](https://pypdf2.readthedocs.io/en/stable/user/extract-text.html#example-1-ignore-header-and-footer)\n",
    "The following example reads the text of page 4 of this PDF document, but ignores header (y < 720) and footer (y > 50).\n",
    "\n",
    "```python\n",
    "    from pypdf import PdfReader\n",
    "\n",
    "    reader = PdfReader(\"GeoBase_NHNC1_Data_Model_UML_EN.pdf\")\n",
    "    page = reader.pages[3]\n",
    "\n",
    "    parts = []\n",
    "\n",
    "\n",
    "    def visitor_body(text, cm, tm, fontDict, fontSize):\n",
    "        y = tm[5]\n",
    "        if y > 50 and y < 720:\n",
    "            parts.append(text)\n",
    "\n",
    "\n",
    "    page.extract_text(visitor_text=visitor_body)\n",
    "    text_body = \"\".join(parts)\n",
    "\n",
    "    print(text_body)\n",
    "```"
   ]
  },
  {
   "cell_type": "code",
   "execution_count": 1,
   "metadata": {},
   "outputs": [],
   "source": [
    "from PyPDF2 import PdfReader\n",
    "\n",
    "# Define some constants\n",
    "PDF_FILE = \"Plato - Apology.pdf\"\n",
    "AUDIO_FILE = \"Plato - Apology.mp3\"\n",
    "TEXT_FILE = 'extracted_text.txt'"
   ]
  },
  {
   "cell_type": "code",
   "execution_count": 25,
   "metadata": {},
   "outputs": [],
   "source": [
    "'''\n",
    "A function to extract text from a PDF file and save it as a text file\n",
    "Takes the following of arguments:\n",
    "    * PDF file to extract from\n",
    "    * Start page (defaults to 0)\n",
    "    * End page (defaults to -1, which means the last page)\n",
    "'''\n",
    "def extract_text_from_pdf(pdf_file, start_page=0, end_page=-1):\n",
    "    # Create a PDF reader object\n",
    "    pdf_reader = PdfReader(pdf_file)\n",
    "\n",
    "    # Get the number of pages in the PDF file\n",
    "    num_pages = pdf_reader.numPages\n",
    "\n",
    "    # If the end page is -1, set it to the last page\n",
    "    if end_page == -1:\n",
    "        end_page = num_pages\n",
    "\n",
    "    # Create a text file to save the text to\n",
    "    text_file = open(TEXT_FILE, \"w\")\n",
    "\n",
    "    # A visitor function which ignores the header and footer, returning paragraphs of text only\n",
    "    def ignore_header_footer(text, cm, tm, fontDict, fontSize):\n",
    "        #import pdb; pdb.set_trace()\n",
    "        y = tm[5]\n",
    "        # Need to fiddle around with these numbers to adapt to the headers of the specific book\n",
    "        if y > 60 and y < 720:\n",
    "            page_text.append(text)\n",
    "            #print(page_text)\n",
    "\n",
    "    # Loop through all the pages\n",
    "    for page_num in range(start_page, end_page):\n",
    "\n",
    "        # List to hold page text elements extracted by visitor function\n",
    "        page_text = []\n",
    "\n",
    "        # Get the page object\n",
    "        page_obj = pdf_reader.pages[page_num]\n",
    "\n",
    "        # Extract the text from the page\n",
    "        page_obj.extract_text(visitor_text=ignore_header_footer)\n",
    "        page_text = ''.join(page_text)\n",
    "\n",
    "        #print(page_text)\n",
    "        \n",
    "        # Write the text to the text file\n",
    "        text_file.write(page_text)\n",
    "\n",
    "    # Close the text file\n",
    "    text_file.close()"
   ]
  },
  {
   "cell_type": "code",
   "execution_count": 27,
   "metadata": {},
   "outputs": [],
   "source": [
    "# Call the function to extract text from the PDF file defined above\n",
    "extract_text_from_pdf(pdf_file=PDF_FILE, start_page=2, end_page=-1)"
   ]
  },
  {
   "cell_type": "code",
   "execution_count": 28,
   "metadata": {},
   "outputs": [],
   "source": [
    "!edge-tts --voice en-AU-NatashaNeural --file '{TEXT_FILE}' --write-media '{AUDIO_FILE}'"
   ]
  },
  {
   "attachments": {},
   "cell_type": "markdown",
   "metadata": {},
   "source": [
    "## TODO:\n",
    "* Determine whether the token being used by edge_tts is able to be used simultaneously, or if you get booted\n",
    "    * If booted, find the token your browsers uses and submit a PR to modify edge_tts to parameterize this\n",
    "    * If not booted, implement chapters / chunking of books\n",
    "    * **[CONFIRMED]** Not booted when running in parallel ... so chunk it up!\n",
    "* Explore reimplementing [pdfplumber](https://github.com/jsvine/pdfplumber) package.  Any value?\n",
    "* Find a better way to ignore headers rather than the manual adjustment of the y-coordinates.  (pdfplumber helps?)\n",
    "* Explore approaches to properly format the text file so that paragraphs aren't broken by newlines\n",
    "    * Determine whether a different boundary in the AI TTS service (e.g. word vs sentence) could sort this out\n",
    "    * Remove all newline characters which aren't preceded by periods within the prior 3 characters (allowing for punctuation / quotes / spaces)\n",
    "        * Pro:  quick and easy\n",
    "        * Con:  doesn't distinguish headings\n",
    "    * Analyze the layout of the PDF document and try to focus only on the text itself\n",
    "        * Pro:  should allow for distinguishing the headings & paragraphs\n",
    "        * Con:  likely still results in text that needs newline processing\n",
    "    * Remove / trim silence (vis PocketCasts) in the mp3 itself\n",
    "        * Pro:  quickly improves the quality of the listening experience\n",
    "        * Con:  likely compresses content in a suboptimal way\n",
    "    * Pass the PDF converter a list of strings or regex to remove in the output\n",
    "        * Pro:  removes the duplicate / repeated headers, footers, page numbers, reference markers [1], etc ...\n",
    "        * Con:  doesn't fully address the problem\n",
    "* Explore using GitHub \"dependabot\" for vulnerability management [dependabot](https://github.com/apps/dependabothttps://github.com/apps/dependabot)\n",
    "* Explore using [this guy's implementation of the Edge TTS service](https://github.com/alekssamos/msspeech)\n",
    "    * Are there others that are better?\n",
    "    * You found this one by:\n",
    "        * Searching Google for the chrome-extension://jdiccldimpdaibmpdkjnbmckianbfold code that the edge_tts library uses in its headers in the Communicate class\n",
    "        * Clicking on the [first result, which was this gist](https://gist.github.com/Dobby233Liu/1daafa6ea07f780725250cdf1082bc2e)\n",
    "        * Reading the chat on the gist and noting that [this user seems to have successfully created his own library](https://gist.github.com/alekssamos)\n",
    "* Have a look at the raw JavaScript that is the Edge TTS service in the Edge browser directly:\n",
    "    * view-source:chrome-extension://jdiccldimpdaibmpdkjnbmckianbfold/_generated_background_page.html"
   ]
  },
  {
   "attachments": {},
   "cell_type": "markdown",
   "metadata": {},
   "source": [
    "-----"
   ]
  },
  {
   "attachments": {},
   "cell_type": "markdown",
   "metadata": {},
   "source": [
    "## Feature Roadmap\n",
    "* Break the book out into separate files which are named for the chapter of the book to enable chapters in the audiobook\n",
    "    * This will also hopefully prevent the connection issues that we're having on longer conversions"
   ]
  }
 ],
 "metadata": {
  "kernelspec": {
   "display_name": "pdf_audiobook",
   "language": "python",
   "name": "python3"
  },
  "language_info": {
   "codemirror_mode": {
    "name": "ipython",
    "version": 3
   },
   "file_extension": ".py",
   "mimetype": "text/x-python",
   "name": "python",
   "nbconvert_exporter": "python",
   "pygments_lexer": "ipython3",
   "version": "3.11.0"
  },
  "orig_nbformat": 4,
  "vscode": {
   "interpreter": {
    "hash": "2c8590d7f0d4688e3a9317bf13880c6f803e4e845ab673e65f15cd5b9c0a253d"
   }
  }
 },
 "nbformat": 4,
 "nbformat_minor": 2
}
