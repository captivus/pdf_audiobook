{
 "cells": [
  {
   "attachments": {},
   "cell_type": "markdown",
   "metadata": {},
   "source": [
    "# Buildilng a PDF to audiobook converter in Python + CoPilot\n",
    "We're going to run through this iteratively, making improvements as we go.  To start, we'll write a program that will:\n",
    "1. Convert a number of pages of a PDF file to a text file\n",
    "1. Convert that text file into an mp3 file using Microsoft Edge's excellent text-to-speech AI service\n",
    "\n",
    "Incrementally, we'll make improvements to:\n",
    "1. Ignore headers and other text which we don't want read to us in the audiobook\n",
    "1. Convert the entire PDF to an audiobook\n",
    "1. Properly format the text file so that paragraphs aren't broken by newlines\n",
    "1. Provide indication of progress being made in the audiobook conversion (as this can take a while)\n",
    "\n",
    "Let's get started!"
   ]
  },
  {
   "attachments": {},
   "cell_type": "markdown",
   "metadata": {},
   "source": [
    "## Version 01"
   ]
  },
  {
   "cell_type": "code",
   "execution_count": null,
   "metadata": {},
   "outputs": [],
   "source": [
    "# Activate the pdf_audiobook environment using mamba\n",
    "#! mamba activate pdf_audiobook\n",
    "\n",
    "# Change to the pdf_audiobook directory\n",
    "#! cd ~/projects/pdf_audiobook\n",
    "\n",
    "# Install the modules using mamba and pip\n",
    "#! mamba install -c conda-forge pypdf2\n",
    "#! ~/mambaforge/envs/pdf_audiobook/bin/pip install edge-tts"
   ]
  },
  {
   "cell_type": "code",
   "execution_count": null,
   "metadata": {},
   "outputs": [],
   "source": [
    "# Extracts text from PDF files and converts it to an audiobook\n",
    "# Uses PyPDF2 and edge-tts\n",
    "\n",
    "# Import modules\n",
    "import PyPDF2\n",
    "import edge_tts\n",
    "\n",
    "# Define some constants\n",
    "PDF_FILE = \"Plato - Apology.pdf\"\n",
    "AUDIO_FILE = \"Plato - Apology.mp3\"\n",
    "TEXT_FILE = 'extracted_text.txt'"
   ]
  },
  {
   "cell_type": "code",
   "execution_count": null,
   "metadata": {},
   "outputs": [],
   "source": [
    "'''\n",
    "A function to extract text from a PDF file and save it as a text file\n",
    "Takes the following of arguments:\n",
    "    * PDF file to extract from\n",
    "    * Start page (defaults to 0)\n",
    "    * End page (defaults to -1, which means the last page)\n",
    "'''\n",
    "def extract_text_from_pdf(pdf_file, start_page=0, end_page=-1):\n",
    "    # Open PDF file\n",
    "    pdf_file = open(pdf_file, \"rb\")\n",
    "\n",
    "    # Create a PDF reader object\n",
    "    pdf_reader = PyPDF2.PdfFileReader(pdf_file)\n",
    "\n",
    "    # Get the number of pages in the PDF file\n",
    "    num_pages = pdf_reader.numPages\n",
    "\n",
    "    # Create a text file to save the text to\n",
    "    text_file = open(TEXT_FILE, \"w\")\n",
    "\n",
    "    # If the end page is -1, set it to the last page\n",
    "    if end_page == -1:\n",
    "        end_page = num_pages\n",
    "\n",
    "    # Loop through all the pages\n",
    "    for page_num in range(start_page, end_page):\n",
    "        # Get the page object\n",
    "        page_obj = pdf_reader.getPage(page_num)\n",
    "\n",
    "        # Extract the text from the page\n",
    "        page_text = page_obj.extractText()\n",
    "\n",
    "        # Write the text to the text file\n",
    "        text_file.write(page_text)\n",
    "\n",
    "    # Close the text file\n",
    "    text_file.close()"
   ]
  },
  {
   "cell_type": "code",
   "execution_count": null,
   "metadata": {},
   "outputs": [],
   "source": [
    "# Call the function to extract text from the PDF file defined above\n",
    "extract_text_from_pdf(pdf_file=PDF_FILE, start_page=2, end_page=7)"
   ]
  },
  {
   "cell_type": "code",
   "execution_count": null,
   "metadata": {},
   "outputs": [],
   "source": [
    "!edge-tts --voice en-AU-NatashaNeural --file '{TEXT_FILE}' --write-media '{AUDIO_FILE}'"
   ]
  },
  {
   "attachments": {},
   "cell_type": "markdown",
   "metadata": {},
   "source": [
    "-----"
   ]
  },
  {
   "attachments": {},
   "cell_type": "markdown",
   "metadata": {},
   "source": [
    "## Version 02 -- Refining the pipeline ...\n",
    "Let's have a go at trying to exclude the header and footer using a \"visitor function\"."
   ]
  },
  {
   "attachments": {},
   "cell_type": "markdown",
   "metadata": {},
   "source": [
    "### [Using a visitor](https://pypdf2.readthedocs.io/en/stable/user/extract-text.html#using-a-visitor)\n",
    "You can use visitor-functions to control which part of a page you want to process and extract. The visitor-functions you provide will get called for each operator or for each text fragment.\n",
    "\n",
    "The function provided in argument visitor_text of function extract_text has five arguments: current transformation matrix, text matrix, font-dictionary and font-size. In most cases the x and y coordinates of the current position are in index 4 and 5 of the current transformation matrix.\n",
    "\n",
    "The font-dictionary may be None in case of unknown fonts. If not None it may e.g. contain key “/BaseFont” with value “/Arial,Bold”.\n",
    "\n",
    "Caveat: In complicated documents the calculated positions might be wrong.\n",
    "\n",
    "The function provided in argument visitor_operand_before has four arguments: operand, operand-arguments, current transformation matrix and text matrix.\n",
    "\n",
    "#### [Example 1: Ignore header and footer](https://pypdf2.readthedocs.io/en/stable/user/extract-text.html#example-1-ignore-header-and-footer)\n",
    "The following example reads the text of page 4 of this PDF document, but ignores header (y < 720) and footer (y > 50).\n",
    "\n",
    "```python\n",
    "    from pypdf import PdfReader\n",
    "\n",
    "    reader = PdfReader(\"GeoBase_NHNC1_Data_Model_UML_EN.pdf\")\n",
    "    page = reader.pages[3]\n",
    "\n",
    "    parts = []\n",
    "\n",
    "\n",
    "    def visitor_body(text, cm, tm, fontDict, fontSize):\n",
    "        y = tm[5]\n",
    "        if y > 50 and y < 720:\n",
    "            parts.append(text)\n",
    "\n",
    "\n",
    "    page.extract_text(visitor_text=visitor_body)\n",
    "    text_body = \"\".join(parts)\n",
    "\n",
    "    print(text_body)\n",
    "```"
   ]
  },
  {
   "cell_type": "code",
   "execution_count": null,
   "metadata": {},
   "outputs": [],
   "source": [
    "from PyPDF2 import PdfReader\n",
    "\n",
    "# Define some constants\n",
    "PDF_FILE = \"Plato - Apology.pdf\"\n",
    "AUDIO_FILE = \"Plato - Apology.mp3\"\n",
    "TEXT_FILE = 'extracted_text.txt'"
   ]
  },
  {
   "cell_type": "code",
   "execution_count": null,
   "metadata": {},
   "outputs": [],
   "source": [
    "'''\n",
    "A function to extract text from a PDF file and save it as a text file\n",
    "Takes the following of arguments:\n",
    "    * PDF file to extract from\n",
    "    * Start page (defaults to 0)\n",
    "    * End page (defaults to -1, which means the last page)\n",
    "'''\n",
    "def extract_text_from_pdf(pdf_file, start_page=0, end_page=-1):\n",
    "    # Create a PDF reader object\n",
    "    pdf_reader = PdfReader(pdf_file)\n",
    "\n",
    "    # Get the number of pages in the PDF file\n",
    "    num_pages = pdf_reader.numPages\n",
    "\n",
    "    # If the end page is -1, set it to the last page\n",
    "    if end_page == -1:\n",
    "        end_page = num_pages\n",
    "\n",
    "    # Create a text file to save the text to\n",
    "    text_file = open(TEXT_FILE, \"w\")\n",
    "\n",
    "    # A visitor function which ignores the header and footer, returning paragraphs of text only\n",
    "    def ignore_header_footer(text, cm, tm, fontDict, fontSize):\n",
    "        #import pdb; pdb.set_trace()\n",
    "        y = tm[5]\n",
    "        # Need to fiddle around with these numbers to adapt to the headers of the specific book\n",
    "        if y > 60 and y < 720:\n",
    "            page_text.append(text)\n",
    "            #print(page_text)\n",
    "\n",
    "    # Loop through all the pages\n",
    "    for page_num in range(start_page, end_page):\n",
    "\n",
    "        # List to hold page text elements extracted by visitor function\n",
    "        page_text = []\n",
    "\n",
    "        # Get the page object\n",
    "        page_obj = pdf_reader.pages[page_num]\n",
    "\n",
    "        # Extract the text from the page\n",
    "        page_obj.extract_text(visitor_text=ignore_header_footer)\n",
    "        page_text = ''.join(page_text)\n",
    "\n",
    "        #print(page_text)\n",
    "        \n",
    "        # Write the text to the text file\n",
    "        text_file.write(page_text)\n",
    "\n",
    "    # Close the text file\n",
    "    text_file.close()"
   ]
  },
  {
   "cell_type": "code",
   "execution_count": null,
   "metadata": {},
   "outputs": [],
   "source": [
    "# Call the function to extract text from the PDF file defined above\n",
    "extract_text_from_pdf(pdf_file=PDF_FILE, start_page=2, end_page=-1)"
   ]
  },
  {
   "cell_type": "code",
   "execution_count": null,
   "metadata": {},
   "outputs": [],
   "source": [
    "!edge-tts --voice en-AU-NatashaNeural --file '{TEXT_FILE}' --write-media '{AUDIO_FILE}'"
   ]
  },
  {
   "attachments": {},
   "cell_type": "markdown",
   "metadata": {},
   "source": [
    "## Version 03 -- Reimplementing in pdfplumber\n",
    "It turns out that the [pdfplumber](https://github.com/jsvine/pdfplumber) library is far more feature rich and widely used (as measured by GitHub stars) than py2pdf.  Let's reimplement in pdfplumber, and also do a bit of refactoring to tidy things up while we're at it."
   ]
  },
  {
   "cell_type": "code",
   "execution_count": null,
   "metadata": {},
   "outputs": [],
   "source": [
    "# !mamba search pdfplumber\n",
    "# Install pdfplumber in the project environment\n",
    "# !~/mambaforge/envs/pdf_audiobook/bin/pip install pdfplumber"
   ]
  },
  {
   "cell_type": "code",
   "execution_count": null,
   "metadata": {},
   "outputs": [],
   "source": [
    "import pdfplumber\n",
    "print(pdfplumber.__version__)\n",
    "\n",
    "# define some constants\n",
    "PDF_FILE = \"Plato - Apology.pdf\"\n",
    "AUDIO_FILE = \"Plato - Apology.mp3\"\n",
    "TEXT_FILE = 'extracted_text.txt'"
   ]
  },
  {
   "cell_type": "code",
   "execution_count": null,
   "metadata": {},
   "outputs": [],
   "source": [
    "# load the PDF file and examine a page\n",
    "pdf = pdfplumber.open(PDF_FILE)\n",
    "\n",
    "# get the first page\n",
    "page = pdf.pages[0]\n",
    "\n",
    "# examine an image of the first page\n",
    "im = page.to_image()"
   ]
  },
  {
   "attachments": {},
   "cell_type": "markdown",
   "metadata": {},
   "source": [
    "Annoying ... it turns out that this is solved by editing the ImageMagic policy as per [this StackOverflow question](https://stackoverflow.com/questions/52998331/imagemagick-security-policy-pdf-blocking-conversion).  From the same, here's a one-line solution:\n",
    "\n",
    "```bash\n",
    "sed -i '/disable ghostscript format types/,+6d' /etc/ImageMagick-6/policy.xml\n",
    "```"
   ]
  },
  {
   "cell_type": "code",
   "execution_count": null,
   "metadata": {},
   "outputs": [],
   "source": [
    "# Add to bottom of policy\n",
    "# !sudo sed -i.backup '/<\\/policymap>/i \\ \\ <policy domain=\"coder\" rights=\"read|write\" pattern=\"PDF\" />' /etc/ImageMagick-6/policy.xml\n",
    "# !sudo sed -i.backup '/<\\/policymap>/i \\ \\ <policy domain=\"coder\" rights=\"read|write\" pattern=\"LABEL\" />' /etc/ImageMagick-6/policy.xml\n",
    "\n",
    "# Add to top of policy\n",
    "# !sudo sed -i.backup '/<policymap>/a \\ \\ <policy domain=\"coder\" rights=\"read | write\" pattern=\"PDF\" />' /etc/ImageMagick-6/policy.xml"
   ]
  },
  {
   "cell_type": "code",
   "execution_count": null,
   "metadata": {},
   "outputs": [],
   "source": [
    "# load the PDF file and examine a page\n",
    "pdf = pdfplumber.open(PDF_FILE)\n",
    "\n",
    "# get the first page\n",
    "page = pdf.pages[0]\n",
    "\n",
    "# examine an image of the first page\n",
    "im = page.to_image()"
   ]
  },
  {
   "attachments": {},
   "cell_type": "markdown",
   "metadata": {},
   "source": [
    "This is bloody annoying, and needs more work.  We'll move on for now without visual debugging."
   ]
  },
  {
   "cell_type": "code",
   "execution_count": null,
   "metadata": {},
   "outputs": [],
   "source": [
    "# load the PDF file and examine a page\n",
    "pdf = pdfplumber.open(PDF_FILE)\n",
    "\n",
    "# get the third page\n",
    "page = pdf.pages[2]\n",
    "\n",
    "# extract the text from the page\n",
    "text = page.extract_text()\n",
    "print(text)"
   ]
  },
  {
   "cell_type": "code",
   "execution_count": null,
   "metadata": {},
   "outputs": [],
   "source": [
    "# Adjust the tolerance so that we get paragraphs of text\n",
    "text = page.extract_text(y_tolerance=10)\n",
    "print(text)"
   ]
  },
  {
   "cell_type": "code",
   "execution_count": null,
   "metadata": {},
   "outputs": [],
   "source": [
    "type(text)"
   ]
  },
  {
   "attachments": {},
   "cell_type": "markdown",
   "metadata": {},
   "source": [
    "Let's capture only paragraphs of text (i.e. exclude the header and footer) by cropping to a bounding box.  Bounding boxes are described using 4 points:\n",
    "* x0: the distance of the left side of the box from the left side of the page\n",
    "* top: the distance of the top of the box from the top of the page\n",
    "* x1:the distance of the right side of the box from the **left** side of the page\n",
    "* bottom: the distance of the bottom of the box from the **top** of the page\n",
    "\n",
    "NB all distances are measured from the **left** side and **top** of the page.\n",
    "\n",
    "These are defined in the [documentation here](https://github.com/jsvine/pdfplumber#char-properties).  We've measured these distances in the document using Acrobat's measurement tool.  This will need to be adjusted for each document."
   ]
  },
  {
   "cell_type": "code",
   "execution_count": null,
   "metadata": {},
   "outputs": [],
   "source": [
    "# Measured these distances in our demo file\n",
    "x0 = 70\n",
    "top = 75\n",
    "x1 = 540\n",
    "bottom = 717\n",
    "\n",
    "# create tuple for parameterizing crop()\n",
    "bounding_box = (x0, top, x1, bottom)"
   ]
  },
  {
   "cell_type": "code",
   "execution_count": null,
   "metadata": {},
   "outputs": [],
   "source": [
    "page = pdf.pages[2]\n",
    "page = page.crop(bbox=bounding_box)\n",
    "text = page.extract_text()\n",
    "print(text)"
   ]
  },
  {
   "cell_type": "code",
   "execution_count": null,
   "metadata": {},
   "outputs": [],
   "source": [
    "with open(file=TEXT_FILE, mode='w') as text_file:\n",
    "    text_file.write(text)"
   ]
  },
  {
   "attachments": {},
   "cell_type": "markdown",
   "metadata": {},
   "source": [
    "That works!  We still have the annoying issue of the newline characters being inserted at the end of every line."
   ]
  },
  {
   "cell_type": "code",
   "execution_count": null,
   "metadata": {},
   "outputs": [],
   "source": [
    "text = page.extract_text(layout=True)\n",
    "print(text)"
   ]
  },
  {
   "cell_type": "code",
   "execution_count": null,
   "metadata": {},
   "outputs": [],
   "source": [
    "text = page.extract_words(split_at_punctuation=True)\n",
    "print(text)"
   ]
  },
  {
   "cell_type": "code",
   "execution_count": null,
   "metadata": {},
   "outputs": [],
   "source": [
    "len(text)"
   ]
  },
  {
   "cell_type": "code",
   "execution_count": null,
   "metadata": {},
   "outputs": [],
   "source": [
    "text[0]"
   ]
  },
  {
   "cell_type": "code",
   "execution_count": null,
   "metadata": {},
   "outputs": [],
   "source": [
    "text[1]"
   ]
  },
  {
   "cell_type": "code",
   "execution_count": null,
   "metadata": {},
   "outputs": [],
   "source": [
    "text = page.extract_words()\n",
    "for i in range(5):\n",
    "    print(text[i])"
   ]
  },
  {
   "cell_type": "code",
   "execution_count": null,
   "metadata": {},
   "outputs": [],
   "source": [
    "text = page.extract_text(y_tolerance=14)\n",
    "print(text[0:500])"
   ]
  },
  {
   "cell_type": "code",
   "execution_count": null,
   "metadata": {},
   "outputs": [],
   "source": [
    "text = page.extract_text()\n",
    "print(text[0:500])\n",
    "#print(text)"
   ]
  },
  {
   "cell_type": "code",
   "execution_count": null,
   "metadata": {},
   "outputs": [],
   "source": [
    "page.extract_text()"
   ]
  },
  {
   "attachments": {},
   "cell_type": "markdown",
   "metadata": {},
   "source": [
    "Let's muck around with pdfminer.six directly and explore the hierarchy of each page ..."
   ]
  },
  {
   "cell_type": "code",
   "execution_count": null,
   "metadata": {},
   "outputs": [],
   "source": [
    "from pdfminer.high_level import extract_pages"
   ]
  },
  {
   "cell_type": "code",
   "execution_count": null,
   "metadata": {},
   "outputs": [],
   "source": [
    "pages = extract_pages(PDF_FILE)\n",
    "pages"
   ]
  },
  {
   "cell_type": "code",
   "execution_count": null,
   "metadata": {},
   "outputs": [],
   "source": [
    "for page in pages:\n",
    "    for element in page:\n",
    "        print(element)"
   ]
  },
  {
   "attachments": {},
   "cell_type": "markdown",
   "metadata": {},
   "source": [
    "This has proved frustrating.  Let's go another direction.  We'll have a look at the [PyMuPDF package](https://github.com/pymupdf/PyMuPDF).  \n",
    "\n",
    "[Reading the docs here.](https://pymupdf.readthedocs.io/en/latest/tutorial.html#extracting-text-and-images)."
   ]
  },
  {
   "cell_type": "code",
   "execution_count": null,
   "metadata": {},
   "outputs": [],
   "source": [
    "# !~/mambaforge/envs/pdf_audiobook/bin/pip install pymupdf"
   ]
  },
  {
   "cell_type": "code",
   "execution_count": null,
   "metadata": {},
   "outputs": [],
   "source": [
    "# import and create some constants\n",
    "import fitz\n",
    "\n",
    "PDF_FILE = \"Plato - Apology.pdf\"\n",
    "AUDIO_FILE = \"Plato - Apology.mp3\"\n",
    "TEXT_FILE = 'extracted_text.txt'"
   ]
  },
  {
   "cell_type": "code",
   "execution_count": null,
   "metadata": {},
   "outputs": [],
   "source": [
    "# open the PDF\n",
    "doc = fitz.open(PDF_FILE)"
   ]
  },
  {
   "cell_type": "code",
   "execution_count": null,
   "metadata": {},
   "outputs": [],
   "source": [
    "page = doc.load_page(3)\n",
    "text = page.get_text()\n",
    "text[0:2000]"
   ]
  },
  {
   "cell_type": "code",
   "execution_count": null,
   "metadata": {},
   "outputs": [],
   "source": [
    "text"
   ]
  },
  {
   "cell_type": "code",
   "execution_count": null,
   "metadata": {},
   "outputs": [],
   "source": [
    "text = page.get_text('blocks')"
   ]
  },
  {
   "cell_type": "code",
   "execution_count": null,
   "metadata": {},
   "outputs": [],
   "source": [
    "text"
   ]
  },
  {
   "attachments": {},
   "cell_type": "markdown",
   "metadata": {},
   "source": [
    "PyMuPDF Approach\n",
    "\n",
    "Remove newline characters so that text reads normally\n",
    "* Extract blocks of text\n",
    "* Filter out header and footer\n",
    "* With each block, remove newline characters\n",
    "* Output each block as a continuous string without embedded newlines\n",
    "* Follow each block with a newline character\n",
    "\n",
    "Identify chapters and extract them individually\n"
   ]
  },
  {
   "attachments": {},
   "cell_type": "markdown",
   "metadata": {},
   "source": [
    "PyMuPDF will [extractBLOCKS()](https://pymupdf.readthedocs.io/en/latest/textpage.html#TextPage.extractBLOCKS) for us, which contain useful information for processing text.\n",
    "\n",
    "extractBLOCKS() -- which can be called via the convenience method ```page.get_text(\"blocks\")``` -- returns a tuple as follows:\n",
    "```\n",
    "(x0, y0, x1, y1, block text, block number, block type)\n",
    "```\n",
    "\n",
    "Where block number is the block sequence number on the page, and block type = 0 for text, and 1 for image.\n",
    "\n",
    "1 inch = 72 points in PDF terms.  Typical margins are:\n",
    "* Top & bottom:  0.75 inches\n",
    "* Right & left:  1.25 inches\n",
    "\n",
    "Let's define some constants to help us work in these dimensions.  Recall, also, that PDFs are measured from the left and top sides of the page.  First, we'll get the dimensions of the page itself."
   ]
  },
  {
   "cell_type": "code",
   "execution_count": null,
   "metadata": {},
   "outputs": [],
   "source": [
    "page.bound()"
   ]
  },
  {
   "cell_type": "code",
   "execution_count": null,
   "metadata": {},
   "outputs": [],
   "source": [
    "HEADER_INCHES = 0.75\n",
    "LEFT_MARGIN_INCHES = 1.25\n",
    "\n",
    "PAGE_LENGTH = page.bound()[3]\n",
    "PAGE_WIDTH = page.bound()[2]\n",
    "\n",
    "# Define header and footer bounding boxes\n",
    "HEADER_FROM_TOP = round(0.75 * 72)  # this can be used to filter out the header\n",
    "FOOTER_FROM_TOP = PAGE_LENGTH - HEADER_FROM_TOP # this can be used to filter out the footer\n",
    "\n",
    "\n"
   ]
  },
  {
   "cell_type": "code",
   "execution_count": null,
   "metadata": {},
   "outputs": [],
   "source": [
    "'''\n",
    "A function which iterates over the pages, blocks, lines and spans of a PDF file\n",
    "The function returns a dictionary containing:\n",
    "    * Each font size in the PDF\n",
    "    * The first sentence of each font\n",
    "    * The count of words in each font\n",
    "\n",
    "Parameters\n",
    "----------\n",
    "pdf_file : str\n",
    "    The path to the PDF file\n",
    "\n",
    "Returns\n",
    "-------\n",
    "dict\n",
    "    A dictionary containing the font sizes, first sentences and word counts\n",
    "\n",
    "'''\n",
    "\n",
    "def get_font_info(pdf_file):\n",
    "    doc = fitz.open(pdf_file)\n",
    "    font_info = {}\n",
    "\n",
    "    for page in doc:\n",
    "        for block in page.get_text('blocks'):\n",
    "            font_size = block[11]\n",
    "            if font_size not in font_info:\n",
    "                font_info[font_size] = {'first_sentence': block[4].split('.')[0], 'word_count': len(block[4].split())}\n",
    "            else:\n",
    "                font_info[font_size]['word_count'] += len(block[4].split())\n",
    "\n",
    "    return font_info"
   ]
  },
  {
   "cell_type": "code",
   "execution_count": null,
   "metadata": {},
   "outputs": [],
   "source": [
    "# A dictionary containing the font sizes, first sentences and word counts\n",
    "font_info = get_font_info(PDF_FILE)"
   ]
  },
  {
   "cell_type": "code",
   "execution_count": null,
   "metadata": {},
   "outputs": [],
   "source": [
    "'''\n",
    "A function which analyzes the size and counts of each font in a PDF file and returns a dictionary of the results.\n",
    "The function also captures an example the first line in each font and stores it in the dictionary.\n",
    "\n",
    "Parameters\n",
    "----------\n",
    "pdf_file : str\n",
    "    The path to the PDF file to analyze.\n",
    "\n",
    "Returns\n",
    "-------\n",
    "font_dict : dict\n",
    "    A dictionary of the font sizes and counts in the PDF file.\n",
    "\n",
    "'''\n",
    "\n",
    "def analyze_fonts(pdf_file):\n",
    "    \n",
    "    # Open the PDF file\n",
    "    doc = fitz.open(pdf_file)\n",
    "    \n",
    "    # Create a dictionary to hold the results\n",
    "    font_dict = {}\n",
    "    \n",
    "    # Loop through all the pages in the PDF file\n",
    "    for page in doc:\n",
    "        \n",
    "        # Loop through all the text blocks on the page\n",
    "        for block in page.get_text('blocks'):\n",
    "            \n",
    "            # Loop through all the text lines in the block\n",
    "            for line in block['lines']:\n",
    "                \n",
    "                for span in line['spans']:\n",
    "                \n",
    "                    # Get the font size\n",
    "                    font_size = span['size']\n",
    "                    \n",
    "                    # Get the font name\n",
    "                    font_name = line.fontname\n",
    "                    \n",
    "                    # Get the first line of text in the font\n",
    "                    first_line = line.get_text()\n",
    "                    \n",
    "                    # If the font size is already in the dictionary, increment the count\n",
    "                    if font_size in font_dict:\n",
    "                        font_dict[font_size]['count'] += 1\n",
    "                        \n",
    "                        # If the font name is not already in the list of font names, add it\n",
    "                        if font_name not in font_dict[font_size]['font_names']:\n",
    "                            font_dict[font_size]['font_names'].append(font_name)\n",
    "                            \n",
    "                        # If the first line is not already in the list of first lines, add it\n",
    "                        if first_line not in font_dict[font_size]['first_lines']:\n",
    "                            font_dict[font_size]['first_lines'].append(first_line)\n",
    "                        \n",
    "                    # If the font size is not already in the dictionary\n",
    "                    else:\n",
    "                        font_dict[font_size] = {}\n",
    "                        font_dict[font_size]['count'] = 1\n",
    "                        font_dict[font_size]['font_names'] = [font_name]\n",
    "                        font_dict[font_size]['first_lines'] = [first_line]\n",
    "\n",
    "    return font_dict"
   ]
  },
  {
   "cell_type": "code",
   "execution_count": null,
   "metadata": {},
   "outputs": [],
   "source": [
    "# Create a dictionary of the fonts in the PDF file\n",
    "font_dict = analyze_fonts(PDF_FILE)"
   ]
  },
  {
   "attachments": {},
   "cell_type": "markdown",
   "metadata": {},
   "source": [
    "### Thinking out loud\n",
    "What's an algorithm for grouping all of the characters by text size and then identifying which are useful for the audiobook?\n",
    "* What types of characters do you expect?\n",
    "    * Paragraphs\n",
    "    * Chapter headers\n",
    "    * Header\n",
    "    * Footer\n",
    "    * Annotations / references\n",
    "* Analytze the entire document, grouping text by size\n",
    "* Produce an image of each page which contains the first example of a size of text, with that text highlighted / redboxed\n",
    "* Ask the user to label each of the groups of text size, using labels you predefine for audiobook layout (e.g. chapter heading, paragraph, etc ...)\n",
    "* Generate an audiobook in accordance with the predefined layout\n",
    "\n",
    "Start simply!\n",
    "* Allow for chapter headers and paragraphs, only.\n",
    "* Don't prompt the user -- make assumptions."
   ]
  },
  {
   "cell_type": "markdown",
   "metadata": {},
   "source": []
  },
  {
   "attachments": {},
   "cell_type": "markdown",
   "metadata": {},
   "source": [
    "## Version 04 -- Keep it Simple & Use PyMuPDF\n",
    "Keep it simple!  This approach:\n",
    "* Extract text blocks using PyMuPDF\n",
    "* Filter out blocks that are in headers / footers\n",
    "* Remove newlines within each block\n",
    "* Push block text to file and add newline after it\n",
    "* Every N pages, create a new file (rather than fiddle with chapters)\n",
    "* Create mp3 of text file"
   ]
  },
  {
   "cell_type": "code",
   "execution_count": null,
   "metadata": {},
   "outputs": [],
   "source": [
    "import fitz\n",
    "from pathlib import Path\n",
    "\n",
    "PROJECT_PATH = Path('~/projects/pdf_audiobook/')\n",
    "PROJECT_PATH = PROJECT_PATH.expanduser()\n",
    "\n",
    "PDF_PATH = PROJECT_PATH / 'PDFs'\n",
    "TEXT_OUTPUT_PATH = PROJECT_PATH / 'output/txt'\n",
    "AUDIO_OUTPUT_PATH = PROJECT_PATH / 'output/mp3'\n",
    "\n",
    "PDF_FILE = PDF_PATH / \"Plato - Apology.pdf\"\n",
    "AUDIO_FILE = AUDIO_OUTPUT_PATH / \"Plato - Apology.mp3\"\n",
    "TEXT_FILE = TEXT_OUTPUT_PATH / 'extracted_text.txt'\n",
    "\n",
    "AUDIO_FILE_PREFIX = 'Plato - Apology'\n",
    "TEXT_FILE_PREFIX = 'Plato - Apology'\n",
    "\n",
    "pdf = fitz.open(PDF_FILE)\n",
    "\n",
    "PAGE_DIMENSIONS = pdf.load_page(0).bound()\n",
    "\n",
    "HEADER_INCHES = 0.75\n",
    "LEFT_MARGIN_INCHES = 1.25\n",
    "\n",
    "PAGE_LENGTH = pdf.load_page(0).bound()[3]\n",
    "PAGE_WIDTH = pdf.load_page(0).bound()[2]\n",
    "\n",
    "# Define header and footer bounding boxes\n",
    "HEADER_FROM_TOP = round(0.75 * 72)  # this can be used to filter out the header\n",
    "FOOTER_FROM_TOP = PAGE_LENGTH - HEADER_FROM_TOP # this can be used to filter out the footer\n",
    "LEFT_MARGIN_FROM_LEFT = LEFT_MARGIN_INCHES * 72\n",
    "RIGHT_MARGIN_FROM_LEFT = PAGE_WIDTH - LEFT_MARGIN_FROM_LEFT"
   ]
  },
  {
   "attachments": {},
   "cell_type": "markdown",
   "metadata": {},
   "source": [
    "PyMuPDF will [extractBLOCKS()](https://pymupdf.readthedocs.io/en/latest/textpage.html#TextPage.extractBLOCKS) for us, which contain useful information for processing text.\n",
    "\n",
    "extractBLOCKS() -- which can be called via the convenience method ```page.get_text(\"blocks\")``` -- returns a list of tuples where each tuple contains:\n",
    "```\n",
    "(x0, y0, x1, y1, block text, block number, block type)\n",
    "```\n",
    "\n",
    "... where block number is the block sequence number on the page, and block type = 0 for text, and 1 for image.\n",
    "\n",
    "1 inch = 72 points in PDF terms.  Typical margins are:\n",
    "* Top & bottom:  0.75 inches\n",
    "* Right & left:  1.25 inches\n",
    "\n",
    "Let's define some constants to help us work in these dimensions.  Recall, also, that PDFs are measured from the left and top sides of the page.  First, we'll get the dimensions of the page itself."
   ]
  },
  {
   "attachments": {},
   "cell_type": "markdown",
   "metadata": {},
   "source": [
    "1. Extract text blocks using PyMuPDF\n",
    "1. Filter out blocks that are in headers / footers\n",
    "1. Remove newlines within each block\n",
    "1. Push block text to file and add newline after it\n",
    "1. Every N pages, create a new file (rather than fiddle with chapters)\n",
    "1. Create mp3 of text file"
   ]
  },
  {
   "cell_type": "code",
   "execution_count": null,
   "metadata": {},
   "outputs": [],
   "source": [
    "import os\n",
    "\n",
    "PAGE_START = 2\n",
    "#PAGE_STOP = 6\n",
    "PAGE_STOP = pdf.page_count\n",
    "\n",
    "PAGES_PER_FILE = 10 #TODO: reconcile this 1-index with the 0-index of the page count\n",
    "\n",
    "page_count = 0\n",
    "file_label = 0\n",
    "\n",
    "# open the text file with zero-padded file count in the filename\n",
    "text_file = open(file=TEXT_OUTPUT_PATH / (TEXT_FILE_PREFIX + f'_{file_label:02}' + '.txt'), mode='w')\n",
    "\n",
    "# iterate through each page in the document\n",
    "for page in pdf.pages(start=PAGE_START, stop=PAGE_STOP):\n",
    "\n",
    "    # if the page count is a multiple of PAGES_PER_FILE, increment the file counter and open a new text file\n",
    "    if (page_count % PAGES_PER_FILE == 0 and page_count > 0):\n",
    "        # create an mp3 of the text file using edge-tts\n",
    "        #!edge-tts --voice en-AU-NatashaNeural --file '{TEXT_FILE}' --write-media '{AUDIO_FILE}'\n",
    "        #!edge-tts --voice en-AU-NatashaNeural --file '{text_file.name}' --write-media '{AUDIO_FILE_PREFIX}_{file_label:02}.mp3'\n",
    "        \n",
    "        print(f'Closing {text_file.name}')\n",
    "        text_file.close()\n",
    "\n",
    "        print(f'Writing {AUDIO_OUTPUT_PATH}/{AUDIO_FILE_PREFIX}_{file_label:02}.mp3')\n",
    "        os.system(f\"edge-tts --voice en-AU-NatashaNeural --file '{text_file.name}' --write-media '{AUDIO_OUTPUT_PATH}/{AUDIO_FILE_PREFIX}_{file_label:02}.mp3'\")\n",
    "        #os.system(f'edge-tts voice en-AU-NatashaNeural --file '{text_file.name}' --write-media '{text_file.name[:-4]}.mp3'\")\n",
    "\n",
    "        # increment the file counter\n",
    "        file_label = file_label + 1\n",
    "        \n",
    "        # open a new text file with zero-padded file count in the filename\n",
    "        print(f'Opening {TEXT_OUTPUT_PATH}/{TEXT_FILE_PREFIX}_{file_label:02}.txt')\n",
    "        text_file = open(file=TEXT_OUTPUT_PATH / (TEXT_FILE_PREFIX + f'_{file_label:02}' + '.txt'), mode='w')\n",
    "\n",
    "        \n",
    "    # iterate through each block of text on the page\n",
    "    for block in page.get_text('blocks'):\n",
    "        print(f'Processing block #{block[5]} of page #{page.number}')\n",
    "        # get the y coordinate of the bottom right corner of the block\n",
    "        block_end_y = block[3]\n",
    "\n",
    "        # if the block is not in the header or footer\n",
    "        if not (block_end_y < HEADER_FROM_TOP or block_end_y > FOOTER_FROM_TOP):\n",
    "\n",
    "            # remove the newline characters from the block text\n",
    "            block_text = block[4].replace('\\n', ' ')\n",
    "            # write the block text to the text file and append a newline character\n",
    "            print(f'Writing block #{block[5]} of page #{page.number} to {text_file.name}')\n",
    "            text_file.write(block_text + '\\n')\n",
    "    \n",
    "    # increment page counter\n",
    "    #import pdb; pdb.set_trace()\n",
    "    print(f'Incrementing page counter from {page_count} to {page_count + 1}')\n",
    "    page_count = page_count + 1\n",
    "\n",
    "    # if we've processed all of the pages in the range, close the text file and create an mp3 of the text file using edge-tts\n",
    "    if page_count == PAGE_STOP - PAGE_START:\n",
    "        print(f'Closing {text_file.name}')\n",
    "        text_file.close()\n",
    "\n",
    "        print(f'Writing {AUDIO_OUTPUT_PATH}/{AUDIO_FILE_PREFIX}_{file_label:02}.mp3')\n",
    "        os.system(f\"edge-tts --voice en-AU-NatashaNeural --file '{text_file.name}' --write-media '{AUDIO_OUTPUT_PATH}/{AUDIO_FILE_PREFIX}_{file_label:02}.mp3'\")\n"
   ]
  },
  {
   "attachments": {},
   "cell_type": "markdown",
   "metadata": {},
   "source": [
    "### TODO:\n",
    "* Separate the 2 loops:  text and audio file creation (this will also make it clear where there are errors in creation)\n",
    "* Print some timestamps in audio file creation\n",
    "* Handle audio file creation directly within Python using edge-tts so you can handle errors properly"
   ]
  },
  {
   "cell_type": "markdown",
   "metadata": {},
   "source": []
  }
 ],
 "metadata": {
  "kernelspec": {
   "display_name": "pdf_audiobook",
   "language": "python",
   "name": "python3"
  },
  "language_info": {
   "codemirror_mode": {
    "name": "ipython",
    "version": 3
   },
   "file_extension": ".py",
   "mimetype": "text/x-python",
   "name": "python",
   "nbconvert_exporter": "python",
   "pygments_lexer": "ipython3",
   "version": "3.11.0"
  },
  "orig_nbformat": 4,
  "vscode": {
   "interpreter": {
    "hash": "2c8590d7f0d4688e3a9317bf13880c6f803e4e845ab673e65f15cd5b9c0a253d"
   }
  }
 },
 "nbformat": 4,
 "nbformat_minor": 2
}
