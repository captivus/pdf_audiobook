{
 "cells": [
  {
   "attachments": {},
   "cell_type": "markdown",
   "metadata": {},
   "source": [
    "# Buildilng a PDF to audiobook converter in Python + CoPilot\n",
    "\n",
    "## Version 01\n",
    "We're going to run through this iteratively, making improvements as we go.  To start, we'll write a program that will:\n",
    "1. Convert a number of pages of a PDF file to a text file\n",
    "1. Convert that text file into an mp3 file using Microsoft Edge's excellent text-to-speech service\n",
    "\n",
    "Incrementally, we'll make improvements to:\n",
    "1. Ignore headers and other text which we don't want read to us in the audiobook\n",
    "1. Convert the entire PDF to an audiobook\n",
    "1. Properly format the text file so that paragraphs aren't broken by newlines\n",
    "1. Provide indication of progress being made in the audiobook conversion (as this can take a while)\n",
    "\n",
    "Let's get started!"
   ]
  },
  {
   "attachments": {},
   "cell_type": "markdown",
   "metadata": {},
   "source": [
    "## Version 01"
   ]
  },
  {
   "cell_type": "code",
   "execution_count": null,
   "metadata": {},
   "outputs": [],
   "source": [
    "# Activate the pdf_audiobook environment using mamba\n",
    "#! mamba activate pdf_audiobook\n",
    "\n",
    "# Change to the pdf_audiobook directory\n",
    "#! cd ~/projects/pdf_audiobook\n",
    "\n",
    "# Install the modules using mamba and pip\n",
    "#! mamba install -c conda-forge pypdf2\n",
    "#! ~/mambaforge/envs/pdf_audiobook/bin/pip install edge-tts"
   ]
  },
  {
   "cell_type": "code",
   "execution_count": 5,
   "metadata": {},
   "outputs": [],
   "source": [
    "# Extracts text from PDF files and converts it to an audiobook\n",
    "# Uses PyPDF2 and edge-tts\n",
    "\n",
    "# Import modules\n",
    "import PyPDF2\n",
    "import edge_tts\n",
    "\n",
    "# Define some constants\n",
    "PDF_FILE = \"Plato - Apology.pdf\"\n",
    "AUDIO_FILE = \"Plato - Apology.mp3\"\n",
    "TEXT_FILE = 'extracted_text.txt'"
   ]
  },
  {
   "cell_type": "code",
   "execution_count": 6,
   "metadata": {},
   "outputs": [],
   "source": [
    "'''\n",
    "A function to extract text from a PDF file and save it as a text file\n",
    "Takes the following of arguments:\n",
    "    * PDF file to extract from\n",
    "    * Start page (defaults to 0)\n",
    "    * End page (defaults to -1, which means the last page)\n",
    "'''\n",
    "def extract_text_from_pdf(pdf_file, start_page=0, end_page=-1):\n",
    "    # Open PDF file\n",
    "    pdf_file = open(pdf_file, \"rb\")\n",
    "\n",
    "    # Create a PDF reader object\n",
    "    pdf_reader = PyPDF2.PdfFileReader(pdf_file)\n",
    "\n",
    "    # Get the number of pages in the PDF file\n",
    "    num_pages = pdf_reader.numPages\n",
    "\n",
    "    # Create a text file to save the text to\n",
    "    text_file = open(TEXT_FILE, \"w\")\n",
    "\n",
    "    # If the end page is -1, set it to the last page\n",
    "    if end_page == -1:\n",
    "        end_page = num_pages\n",
    "\n",
    "    # Loop through all the pages\n",
    "    for page_num in range(start_page, end_page):\n",
    "        # Get the page object\n",
    "        page_obj = pdf_reader.getPage(page_num)\n",
    "\n",
    "        # Extract the text from the page\n",
    "        page_text = page_obj.extractText()\n",
    "\n",
    "        # Write the text to the text file\n",
    "        text_file.write(page_text)\n",
    "\n",
    "    # Close the text file\n",
    "    text_file.close()"
   ]
  },
  {
   "cell_type": "code",
   "execution_count": 7,
   "metadata": {},
   "outputs": [],
   "source": [
    "# Call the function to extract text from the PDF file defined above\n",
    "extract_text_from_pdf(pdf_file=PDF_FILE, start_page=2, end_page=7)"
   ]
  },
  {
   "cell_type": "code",
   "execution_count": 8,
   "metadata": {},
   "outputs": [],
   "source": [
    "!edge-tts --voice en-AU-NatashaNeural --file '{TEXT_FILE}' --write-media '{AUDIO_FILE}'"
   ]
  }
 ],
 "metadata": {
  "kernelspec": {
   "display_name": "pdf_audiobook",
   "language": "python",
   "name": "python3"
  },
  "language_info": {
   "codemirror_mode": {
    "name": "ipython",
    "version": 3
   },
   "file_extension": ".py",
   "mimetype": "text/x-python",
   "name": "python",
   "nbconvert_exporter": "python",
   "pygments_lexer": "ipython3",
   "version": "3.11.0"
  },
  "orig_nbformat": 4,
  "vscode": {
   "interpreter": {
    "hash": "2c8590d7f0d4688e3a9317bf13880c6f803e4e845ab673e65f15cd5b9c0a253d"
   }
  }
 },
 "nbformat": 4,
 "nbformat_minor": 2
}
